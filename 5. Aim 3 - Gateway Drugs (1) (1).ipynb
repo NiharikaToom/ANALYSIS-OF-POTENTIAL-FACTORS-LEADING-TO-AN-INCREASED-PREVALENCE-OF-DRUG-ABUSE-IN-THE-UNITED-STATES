{
 "cells": [
  {
   "cell_type": "markdown",
   "metadata": {},
   "source": [
    "# Data Extraction"
   ]
  },
  {
   "cell_type": "code",
   "execution_count": 1,
   "metadata": {},
   "outputs": [],
   "source": [
    "import pandas as pd\n",
    "import numpy as np\n",
    "\n",
    "myvars = {}\n",
    "with open(\"nihatoom-mysql-password\") as myfile:\n",
    "    for line in myfile:\n",
    "        name, var = line.partition(\":\")[::2]\n",
    "        myvars[name.strip()] = var.strip()\n",
    "\n",
    "\n",
    "import MySQLdb\n",
    "conn = MySQLdb.connect(host = \"localhost\",user=myvars['DB username'], passwd=myvars['DB password'], db='I501Fa21grp05_db', local_infile = 1)\n",
    "cursor = conn.cursor()"
   ]
  },
  {
   "cell_type": "code",
   "execution_count": 2,
   "metadata": {},
   "outputs": [],
   "source": [
    "# Pull data from database where the age of the respondant is 25 years old or greater.\n",
    "\n",
    "df = pd.read_sql('select CATAG6, CIGAGE, ALCTRY AS ALCAGE, MJAGE, COCAGE, CRKAGE, HERAGE, METHAMAGE, CIGEVER, ALCEVER, MJEVER, COCEVER, CRKEVER, HEREVER, METHAMFLAG from Part1 where CATAG6 > 2;',conn)"
   ]
  },
  {
   "cell_type": "code",
   "execution_count": 3,
   "metadata": {},
   "outputs": [
    {
     "data": {
      "text/html": [
       "<div>\n",
       "<style scoped>\n",
       "    .dataframe tbody tr th:only-of-type {\n",
       "        vertical-align: middle;\n",
       "    }\n",
       "\n",
       "    .dataframe tbody tr th {\n",
       "        vertical-align: top;\n",
       "    }\n",
       "\n",
       "    .dataframe thead th {\n",
       "        text-align: right;\n",
       "    }\n",
       "</style>\n",
       "<table border=\"1\" class=\"dataframe\">\n",
       "  <thead>\n",
       "    <tr style=\"text-align: right;\">\n",
       "      <th></th>\n",
       "      <th>CATAG6</th>\n",
       "      <th>CIGAGE</th>\n",
       "      <th>ALCAGE</th>\n",
       "      <th>MJAGE</th>\n",
       "      <th>COCAGE</th>\n",
       "      <th>CRKAGE</th>\n",
       "      <th>HERAGE</th>\n",
       "      <th>METHAMAGE</th>\n",
       "      <th>CIGEVER</th>\n",
       "      <th>ALCEVER</th>\n",
       "      <th>MJEVER</th>\n",
       "      <th>COCEVER</th>\n",
       "      <th>CRKEVER</th>\n",
       "      <th>HEREVER</th>\n",
       "      <th>METHAMFLAG</th>\n",
       "    </tr>\n",
       "  </thead>\n",
       "  <tbody>\n",
       "    <tr>\n",
       "      <th>0</th>\n",
       "      <td>4</td>\n",
       "      <td>16</td>\n",
       "      <td>14</td>\n",
       "      <td>15</td>\n",
       "      <td>16</td>\n",
       "      <td>16</td>\n",
       "      <td>991</td>\n",
       "      <td>991</td>\n",
       "      <td>1</td>\n",
       "      <td>1</td>\n",
       "      <td>1</td>\n",
       "      <td>1</td>\n",
       "      <td>1</td>\n",
       "      <td>2</td>\n",
       "      <td>0</td>\n",
       "    </tr>\n",
       "    <tr>\n",
       "      <th>1</th>\n",
       "      <td>3</td>\n",
       "      <td>991</td>\n",
       "      <td>21</td>\n",
       "      <td>991</td>\n",
       "      <td>991</td>\n",
       "      <td>991</td>\n",
       "      <td>991</td>\n",
       "      <td>991</td>\n",
       "      <td>2</td>\n",
       "      <td>1</td>\n",
       "      <td>2</td>\n",
       "      <td>2</td>\n",
       "      <td>91</td>\n",
       "      <td>2</td>\n",
       "      <td>0</td>\n",
       "    </tr>\n",
       "    <tr>\n",
       "      <th>2</th>\n",
       "      <td>3</td>\n",
       "      <td>18</td>\n",
       "      <td>21</td>\n",
       "      <td>18</td>\n",
       "      <td>991</td>\n",
       "      <td>991</td>\n",
       "      <td>991</td>\n",
       "      <td>991</td>\n",
       "      <td>1</td>\n",
       "      <td>1</td>\n",
       "      <td>1</td>\n",
       "      <td>2</td>\n",
       "      <td>91</td>\n",
       "      <td>2</td>\n",
       "      <td>0</td>\n",
       "    </tr>\n",
       "    <tr>\n",
       "      <th>3</th>\n",
       "      <td>3</td>\n",
       "      <td>999</td>\n",
       "      <td>18</td>\n",
       "      <td>991</td>\n",
       "      <td>991</td>\n",
       "      <td>991</td>\n",
       "      <td>991</td>\n",
       "      <td>991</td>\n",
       "      <td>1</td>\n",
       "      <td>1</td>\n",
       "      <td>2</td>\n",
       "      <td>2</td>\n",
       "      <td>91</td>\n",
       "      <td>2</td>\n",
       "      <td>0</td>\n",
       "    </tr>\n",
       "    <tr>\n",
       "      <th>4</th>\n",
       "      <td>4</td>\n",
       "      <td>991</td>\n",
       "      <td>991</td>\n",
       "      <td>991</td>\n",
       "      <td>991</td>\n",
       "      <td>991</td>\n",
       "      <td>991</td>\n",
       "      <td>991</td>\n",
       "      <td>2</td>\n",
       "      <td>2</td>\n",
       "      <td>2</td>\n",
       "      <td>2</td>\n",
       "      <td>91</td>\n",
       "      <td>2</td>\n",
       "      <td>0</td>\n",
       "    </tr>\n",
       "  </tbody>\n",
       "</table>\n",
       "</div>"
      ],
      "text/plain": [
       "   CATAG6  CIGAGE  ALCAGE  MJAGE  COCAGE  CRKAGE  HERAGE  METHAMAGE  CIGEVER  \\\n",
       "0       4      16      14     15      16      16     991        991        1   \n",
       "1       3     991      21    991     991     991     991        991        2   \n",
       "2       3      18      21     18     991     991     991        991        1   \n",
       "3       3     999      18    991     991     991     991        991        1   \n",
       "4       4     991     991    991     991     991     991        991        2   \n",
       "\n",
       "   ALCEVER  MJEVER  COCEVER  CRKEVER  HEREVER  METHAMFLAG  \n",
       "0        1       1        1        1        2           0  \n",
       "1        1       2        2       91        2           0  \n",
       "2        1       1        2       91        2           0  \n",
       "3        1       2        2       91        2           0  \n",
       "4        2       2        2       91        2           0  "
      ]
     },
     "execution_count": 3,
     "metadata": {},
     "output_type": "execute_result"
    }
   ],
   "source": [
    "df.head()"
   ]
  },
  {
   "cell_type": "code",
   "execution_count": 4,
   "metadata": {},
   "outputs": [
    {
     "data": {
      "text/plain": [
       "289178"
      ]
     },
     "execution_count": 4,
     "metadata": {},
     "output_type": "execute_result"
    }
   ],
   "source": [
    "len(df)"
   ]
  },
  {
   "cell_type": "markdown",
   "metadata": {},
   "source": [
    "# Data Cleansing"
   ]
  },
  {
   "cell_type": "code",
   "execution_count": 5,
   "metadata": {},
   "outputs": [],
   "source": [
    "# Here I'm defining a function to more easilly cleanse the data column by column.\n",
    "\n",
    "#dframe - Data Frame name; column-Column to recode; bad_val- a list of values to recode; recode_val - value to replace with\n",
    "def recodeColumn(dframe, column, bad_val, recode_val):\n",
    "    dframe[column].replace(bad_val,recode_val,inplace=True)\n",
    "\n"
   ]
  },
  {
   "cell_type": "code",
   "execution_count": 6,
   "metadata": {},
   "outputs": [
    {
     "name": "stdout",
     "output_type": "stream",
     "text": [
      "[ 14  21  18 991  12  16  20  13  15  17  19 994  38  22  11  32  23   9\n",
      "  25  10   7  30  34  24  35   6  26 998 997   1   8   3  64  40   5  27\n",
      "   4  50  33   2  71  29  28  47  36  45  37  31  42  56 985  41  60  49\n",
      "  43  52  39  51  44  48  66  55  67  46  62  65  72  73  53  75  78  58\n",
      "  59  87  70  69  54]\n"
     ]
    }
   ],
   "source": [
    "print(df['ALCAGE'].unique())"
   ]
  },
  {
   "cell_type": "code",
   "execution_count": 7,
   "metadata": {},
   "outputs": [],
   "source": [
    "# Recode Age of first use columns\n",
    "# AGE 1-99, 200 - NEVER\n",
    "recodeColumn(df, 'CIGAGE', [985,991,994,997,998,999,0], 200)\n",
    "recodeColumn(df, 'ALCAGE', [985,991,994,997,998,999,0], 200)\n",
    "recodeColumn(df, 'MJAGE', [985,991,994,997,998,999,0], 200)\n",
    "recodeColumn(df, 'COCAGE', [985,991,994,997,998,999,0], 200)\n",
    "recodeColumn(df, 'CRKAGE', [985,991,994,997,998,999,0], 200)\n",
    "recodeColumn(df, 'HERAGE', [985,991,994,997,998,999,0], 200)\n",
    "recodeColumn(df, 'METHAMAGE', [985,991,994,997,998,999,0], 200)\n"
   ]
  },
  {
   "cell_type": "code",
   "execution_count": null,
   "metadata": {},
   "outputs": [],
   "source": []
  },
  {
   "cell_type": "code",
   "execution_count": 8,
   "metadata": {},
   "outputs": [],
   "source": [
    "# Recode ever done drugs\n",
    "# 1-Yes, 2-No\n",
    "\n",
    "recodeColumn(df, 'CIGEVER', [2], 0)\n",
    "recodeColumn(df, 'ALCEVER', [94,2,97,85], 0)\n",
    "recodeColumn(df, 'MJEVER', [94,2,97,85], 0)\n",
    "recodeColumn(df, 'COCEVER', [94,2,97,85], 0)\n",
    "recodeColumn(df, 'CRKEVER', [94,2,97,85,91,98], 0)\n",
    "recodeColumn(df, 'HEREVER', [94,2,97,85], 0)\n",
    "recodeColumn(df, 'METHAMFLAG', [94,2,97,85], 0)"
   ]
  },
  {
   "cell_type": "code",
   "execution_count": 9,
   "metadata": {},
   "outputs": [
    {
     "data": {
      "text/html": [
       "<div>\n",
       "<style scoped>\n",
       "    .dataframe tbody tr th:only-of-type {\n",
       "        vertical-align: middle;\n",
       "    }\n",
       "\n",
       "    .dataframe tbody tr th {\n",
       "        vertical-align: top;\n",
       "    }\n",
       "\n",
       "    .dataframe thead th {\n",
       "        text-align: right;\n",
       "    }\n",
       "</style>\n",
       "<table border=\"1\" class=\"dataframe\">\n",
       "  <thead>\n",
       "    <tr style=\"text-align: right;\">\n",
       "      <th></th>\n",
       "      <th>CATAG6</th>\n",
       "      <th>CIGAGE</th>\n",
       "      <th>ALCAGE</th>\n",
       "      <th>MJAGE</th>\n",
       "      <th>COCAGE</th>\n",
       "      <th>CRKAGE</th>\n",
       "      <th>HERAGE</th>\n",
       "      <th>METHAMAGE</th>\n",
       "      <th>CIGEVER</th>\n",
       "      <th>ALCEVER</th>\n",
       "      <th>MJEVER</th>\n",
       "      <th>COCEVER</th>\n",
       "      <th>CRKEVER</th>\n",
       "      <th>HEREVER</th>\n",
       "      <th>METHAMFLAG</th>\n",
       "    </tr>\n",
       "  </thead>\n",
       "  <tbody>\n",
       "    <tr>\n",
       "      <th>0</th>\n",
       "      <td>4</td>\n",
       "      <td>16</td>\n",
       "      <td>14</td>\n",
       "      <td>15</td>\n",
       "      <td>16</td>\n",
       "      <td>16</td>\n",
       "      <td>200</td>\n",
       "      <td>200</td>\n",
       "      <td>1</td>\n",
       "      <td>1</td>\n",
       "      <td>1</td>\n",
       "      <td>1</td>\n",
       "      <td>1</td>\n",
       "      <td>0</td>\n",
       "      <td>0</td>\n",
       "    </tr>\n",
       "    <tr>\n",
       "      <th>1</th>\n",
       "      <td>3</td>\n",
       "      <td>200</td>\n",
       "      <td>21</td>\n",
       "      <td>200</td>\n",
       "      <td>200</td>\n",
       "      <td>200</td>\n",
       "      <td>200</td>\n",
       "      <td>200</td>\n",
       "      <td>0</td>\n",
       "      <td>1</td>\n",
       "      <td>0</td>\n",
       "      <td>0</td>\n",
       "      <td>0</td>\n",
       "      <td>0</td>\n",
       "      <td>0</td>\n",
       "    </tr>\n",
       "    <tr>\n",
       "      <th>2</th>\n",
       "      <td>3</td>\n",
       "      <td>18</td>\n",
       "      <td>21</td>\n",
       "      <td>18</td>\n",
       "      <td>200</td>\n",
       "      <td>200</td>\n",
       "      <td>200</td>\n",
       "      <td>200</td>\n",
       "      <td>1</td>\n",
       "      <td>1</td>\n",
       "      <td>1</td>\n",
       "      <td>0</td>\n",
       "      <td>0</td>\n",
       "      <td>0</td>\n",
       "      <td>0</td>\n",
       "    </tr>\n",
       "    <tr>\n",
       "      <th>3</th>\n",
       "      <td>3</td>\n",
       "      <td>200</td>\n",
       "      <td>18</td>\n",
       "      <td>200</td>\n",
       "      <td>200</td>\n",
       "      <td>200</td>\n",
       "      <td>200</td>\n",
       "      <td>200</td>\n",
       "      <td>1</td>\n",
       "      <td>1</td>\n",
       "      <td>0</td>\n",
       "      <td>0</td>\n",
       "      <td>0</td>\n",
       "      <td>0</td>\n",
       "      <td>0</td>\n",
       "    </tr>\n",
       "    <tr>\n",
       "      <th>4</th>\n",
       "      <td>4</td>\n",
       "      <td>200</td>\n",
       "      <td>200</td>\n",
       "      <td>200</td>\n",
       "      <td>200</td>\n",
       "      <td>200</td>\n",
       "      <td>200</td>\n",
       "      <td>200</td>\n",
       "      <td>0</td>\n",
       "      <td>0</td>\n",
       "      <td>0</td>\n",
       "      <td>0</td>\n",
       "      <td>0</td>\n",
       "      <td>0</td>\n",
       "      <td>0</td>\n",
       "    </tr>\n",
       "  </tbody>\n",
       "</table>\n",
       "</div>"
      ],
      "text/plain": [
       "   CATAG6  CIGAGE  ALCAGE  MJAGE  COCAGE  CRKAGE  HERAGE  METHAMAGE  CIGEVER  \\\n",
       "0       4      16      14     15      16      16     200        200        1   \n",
       "1       3     200      21    200     200     200     200        200        0   \n",
       "2       3      18      21     18     200     200     200        200        1   \n",
       "3       3     200      18    200     200     200     200        200        1   \n",
       "4       4     200     200    200     200     200     200        200        0   \n",
       "\n",
       "   ALCEVER  MJEVER  COCEVER  CRKEVER  HEREVER  METHAMFLAG  \n",
       "0        1       1        1        1        0           0  \n",
       "1        1       0        0        0        0           0  \n",
       "2        1       1        0        0        0           0  \n",
       "3        1       0        0        0        0           0  \n",
       "4        0       0        0        0        0           0  "
      ]
     },
     "execution_count": 9,
     "metadata": {},
     "output_type": "execute_result"
    }
   ],
   "source": [
    "df.head()"
   ]
  },
  {
   "cell_type": "code",
   "execution_count": 10,
   "metadata": {},
   "outputs": [
    {
     "data": {
      "text/html": [
       "<div>\n",
       "<style scoped>\n",
       "    .dataframe tbody tr th:only-of-type {\n",
       "        vertical-align: middle;\n",
       "    }\n",
       "\n",
       "    .dataframe tbody tr th {\n",
       "        vertical-align: top;\n",
       "    }\n",
       "\n",
       "    .dataframe thead th {\n",
       "        text-align: right;\n",
       "    }\n",
       "</style>\n",
       "<table border=\"1\" class=\"dataframe\">\n",
       "  <thead>\n",
       "    <tr style=\"text-align: right;\">\n",
       "      <th></th>\n",
       "      <th>CATAG6</th>\n",
       "      <th>CIGAGE</th>\n",
       "      <th>ALCAGE</th>\n",
       "      <th>MJAGE</th>\n",
       "      <th>COCAGE</th>\n",
       "      <th>CRKAGE</th>\n",
       "      <th>HERAGE</th>\n",
       "      <th>METHAMAGE</th>\n",
       "      <th>CIGEVER</th>\n",
       "      <th>ALCEVER</th>\n",
       "      <th>MJEVER</th>\n",
       "      <th>COCEVER</th>\n",
       "      <th>CRKEVER</th>\n",
       "      <th>HEREVER</th>\n",
       "      <th>METHAMFLAG</th>\n",
       "      <th>Gateway_Flag</th>\n",
       "      <th>Hard_Flag</th>\n",
       "    </tr>\n",
       "  </thead>\n",
       "  <tbody>\n",
       "    <tr>\n",
       "      <th>0</th>\n",
       "      <td>4</td>\n",
       "      <td>16</td>\n",
       "      <td>14</td>\n",
       "      <td>15</td>\n",
       "      <td>16</td>\n",
       "      <td>16</td>\n",
       "      <td>200</td>\n",
       "      <td>200</td>\n",
       "      <td>1</td>\n",
       "      <td>1</td>\n",
       "      <td>1</td>\n",
       "      <td>1</td>\n",
       "      <td>1</td>\n",
       "      <td>0</td>\n",
       "      <td>0</td>\n",
       "      <td>1</td>\n",
       "      <td>1</td>\n",
       "    </tr>\n",
       "    <tr>\n",
       "      <th>1</th>\n",
       "      <td>3</td>\n",
       "      <td>200</td>\n",
       "      <td>21</td>\n",
       "      <td>200</td>\n",
       "      <td>200</td>\n",
       "      <td>200</td>\n",
       "      <td>200</td>\n",
       "      <td>200</td>\n",
       "      <td>0</td>\n",
       "      <td>1</td>\n",
       "      <td>0</td>\n",
       "      <td>0</td>\n",
       "      <td>0</td>\n",
       "      <td>0</td>\n",
       "      <td>0</td>\n",
       "      <td>0</td>\n",
       "      <td>0</td>\n",
       "    </tr>\n",
       "    <tr>\n",
       "      <th>2</th>\n",
       "      <td>3</td>\n",
       "      <td>18</td>\n",
       "      <td>21</td>\n",
       "      <td>18</td>\n",
       "      <td>200</td>\n",
       "      <td>200</td>\n",
       "      <td>200</td>\n",
       "      <td>200</td>\n",
       "      <td>1</td>\n",
       "      <td>1</td>\n",
       "      <td>1</td>\n",
       "      <td>0</td>\n",
       "      <td>0</td>\n",
       "      <td>0</td>\n",
       "      <td>0</td>\n",
       "      <td>1</td>\n",
       "      <td>0</td>\n",
       "    </tr>\n",
       "    <tr>\n",
       "      <th>3</th>\n",
       "      <td>3</td>\n",
       "      <td>200</td>\n",
       "      <td>18</td>\n",
       "      <td>200</td>\n",
       "      <td>200</td>\n",
       "      <td>200</td>\n",
       "      <td>200</td>\n",
       "      <td>200</td>\n",
       "      <td>1</td>\n",
       "      <td>1</td>\n",
       "      <td>0</td>\n",
       "      <td>0</td>\n",
       "      <td>0</td>\n",
       "      <td>0</td>\n",
       "      <td>0</td>\n",
       "      <td>0</td>\n",
       "      <td>0</td>\n",
       "    </tr>\n",
       "    <tr>\n",
       "      <th>4</th>\n",
       "      <td>4</td>\n",
       "      <td>200</td>\n",
       "      <td>200</td>\n",
       "      <td>200</td>\n",
       "      <td>200</td>\n",
       "      <td>200</td>\n",
       "      <td>200</td>\n",
       "      <td>200</td>\n",
       "      <td>0</td>\n",
       "      <td>0</td>\n",
       "      <td>0</td>\n",
       "      <td>0</td>\n",
       "      <td>0</td>\n",
       "      <td>0</td>\n",
       "      <td>0</td>\n",
       "      <td>0</td>\n",
       "      <td>0</td>\n",
       "    </tr>\n",
       "  </tbody>\n",
       "</table>\n",
       "</div>"
      ],
      "text/plain": [
       "   CATAG6  CIGAGE  ALCAGE  MJAGE  COCAGE  CRKAGE  HERAGE  METHAMAGE  CIGEVER  \\\n",
       "0       4      16      14     15      16      16     200        200        1   \n",
       "1       3     200      21    200     200     200     200        200        0   \n",
       "2       3      18      21     18     200     200     200        200        1   \n",
       "3       3     200      18    200     200     200     200        200        1   \n",
       "4       4     200     200    200     200     200     200        200        0   \n",
       "\n",
       "   ALCEVER  MJEVER  COCEVER  CRKEVER  HEREVER  METHAMFLAG  Gateway_Flag  \\\n",
       "0        1       1        1        1        0           0             1   \n",
       "1        1       0        0        0        0           0             0   \n",
       "2        1       1        0        0        0           0             1   \n",
       "3        1       0        0        0        0           0             0   \n",
       "4        0       0        0        0        0           0             0   \n",
       "\n",
       "   Hard_Flag  \n",
       "0          1  \n",
       "1          0  \n",
       "2          0  \n",
       "3          0  \n",
       "4          0  "
      ]
     },
     "execution_count": 10,
     "metadata": {},
     "output_type": "execute_result"
    }
   ],
   "source": [
    "#df['Gateway_Age_Flag'] = np.where(df['Gateway_Age'] < df['Hard_Age'],1,0)\n",
    "\n",
    "gf = ['MJEVER']\n",
    "hf = ['COCEVER','CRKEVER','HEREVER','METHAMFLAG']\n",
    "\n",
    "df['Gateway_Flag'] = np.where(df[gf].sum(axis=1) > 0,1,0)\n",
    "df['Hard_Flag'] = np.where(df[hf].sum(axis=1) > 0,1,0)\n",
    "df.head()"
   ]
  },
  {
   "cell_type": "code",
   "execution_count": 11,
   "metadata": {},
   "outputs": [
    {
     "data": {
      "text/plain": [
       "Text(0.5, 1.0, 'METHAMFLAG ')"
      ]
     },
     "execution_count": 11,
     "metadata": {},
     "output_type": "execute_result"
    },
    {
     "data": {
      "image/png": "[encoded data removed]",
      "text/plain": [
       "<Figure size 1080x2160 with 5 Axes>"
      ]
     },
     "metadata": {
      "needs_background": "light"
     },
     "output_type": "display_data"
    }
   ],
   "source": [
    "import seaborn as sns\n",
    "import matplotlib.pyplot as plt\n",
    "\n",
    "fig = plt.figure(figsize = (15,30))\n",
    "\n",
    "ax1 = fig.add_subplot(3,3,1)\n",
    "sns.countplot(data = df, x = 'MJEVER', ax=ax1)\n",
    "colors = {'USED':'darkorange', 'NEVER USED':'blue' }         \n",
    "labels = list(colors.keys())\n",
    "handles = [plt.Rectangle((0,0),1,1, color=colors[label]) for label in labels]\n",
    "plt.legend(handles, labels)\n",
    "plt.title('MJEVER ')\n",
    "\n",
    "ax2 = fig.add_subplot(3,3,2)\n",
    "sns.countplot(data = df, x = 'COCEVER', ax=ax2)\n",
    "colors = {'USED':'darkorange', 'NEVER USED':'blue' }         \n",
    "labels = list(colors.keys())\n",
    "handles = [plt.Rectangle((0,0),1,1, color=colors[label]) for label in labels]\n",
    "plt.legend(handles, labels)\n",
    "plt.title('COCEVER ')\n",
    "\n",
    "\n",
    "ax3 = fig.add_subplot(3,3,3)\n",
    "sns.countplot(data = df, x = 'CRKEVER', ax=ax3)\n",
    "colors = {'USED':'darkorange', 'NEVER USED':'blue' }         \n",
    "labels = list(colors.keys())\n",
    "handles = [plt.Rectangle((0,0),1,1, color=colors[label]) for label in labels]\n",
    "plt.legend(handles, labels)\n",
    "plt.title('CRKEVER ')\n",
    "\n",
    "ax4 = fig.add_subplot(3,3,4)\n",
    "sns.countplot(data = df, x = 'HEREVER', ax=ax4)\n",
    "colors = {'USED':'darkorange', 'NEVER USED':'blue' }         \n",
    "labels = list(colors.keys())\n",
    "handles = [plt.Rectangle((0,0),1,1, color=colors[label]) for label in labels]\n",
    "plt.legend(handles, labels)\n",
    "plt.title('HEREVER ')\n",
    "\n",
    "ax5 = fig.add_subplot(3,3,5)\n",
    "sns.countplot(data = df, x = 'METHAMFLAG', ax=ax5)\n",
    "colors = {'USED':'darkorange', 'NEVER USED':'blue' }         \n",
    "labels = list(colors.keys())\n",
    "handles = [plt.Rectangle((0,0),1,1, color=colors[label]) for label in labels]\n",
    "plt.legend(handles, labels)\n",
    "plt.title('METHAMFLAG ')"
   ]
  },
  {
   "cell_type": "code",
   "execution_count": 12,
   "metadata": {},
   "outputs": [],
   "source": [
    "#Drop redundant columns\n",
    "\n",
    "to_drop = ['CIGEVER','ALCEVER','MJEVER','COCEVER','CRKEVER','HEREVER','METHAMFLAG']\n",
    "df.drop(columns=to_drop, inplace=True)"
   ]
  },
  {
   "cell_type": "code",
   "execution_count": 13,
   "metadata": {},
   "outputs": [
    {
     "name": "stdout",
     "output_type": "stream",
     "text": [
      "Index(['CATAG6', 'CIGAGE', 'ALCAGE', 'MJAGE', 'COCAGE', 'CRKAGE', 'HERAGE',\n",
      "       'METHAMAGE', 'Gateway_Flag', 'Hard_Flag'],\n",
      "      dtype='object')\n"
     ]
    }
   ],
   "source": [
    "print(df.columns)"
   ]
  },
  {
   "cell_type": "code",
   "execution_count": 14,
   "metadata": {},
   "outputs": [
    {
     "name": "stdout",
     "output_type": "stream",
     "text": [
      "[[140550   1748]\n",
      " [ 94616  52264]]\n"
     ]
    }
   ],
   "source": [
    "from sklearn import metrics\n",
    "cm = metrics.confusion_matrix(df['Gateway_Flag']\n",
    "                              ,df['Hard_Flag'])\n",
    "\n",
    "print(cm)"
   ]
  },
  {
   "cell_type": "code",
   "execution_count": 15,
   "metadata": {},
   "outputs": [
    {
     "data": {
      "text/html": [
       "<div>\n",
       "<style scoped>\n",
       "    .dataframe tbody tr th:only-of-type {\n",
       "        vertical-align: middle;\n",
       "    }\n",
       "\n",
       "    .dataframe tbody tr th {\n",
       "        vertical-align: top;\n",
       "    }\n",
       "\n",
       "    .dataframe thead th {\n",
       "        text-align: right;\n",
       "    }\n",
       "</style>\n",
       "<table border=\"1\" class=\"dataframe\">\n",
       "  <thead>\n",
       "    <tr style=\"text-align: right;\">\n",
       "      <th></th>\n",
       "      <th>CATAG6</th>\n",
       "      <th>CIGAGE</th>\n",
       "      <th>ALCAGE</th>\n",
       "      <th>MJAGE</th>\n",
       "      <th>COCAGE</th>\n",
       "      <th>CRKAGE</th>\n",
       "      <th>HERAGE</th>\n",
       "      <th>METHAMAGE</th>\n",
       "      <th>Gateway_Flag</th>\n",
       "      <th>Hard_Flag</th>\n",
       "    </tr>\n",
       "  </thead>\n",
       "  <tbody>\n",
       "    <tr>\n",
       "      <th>0</th>\n",
       "      <td>4</td>\n",
       "      <td>16</td>\n",
       "      <td>14</td>\n",
       "      <td>15</td>\n",
       "      <td>16</td>\n",
       "      <td>16</td>\n",
       "      <td>200</td>\n",
       "      <td>200</td>\n",
       "      <td>1</td>\n",
       "      <td>1</td>\n",
       "    </tr>\n",
       "    <tr>\n",
       "      <th>1</th>\n",
       "      <td>3</td>\n",
       "      <td>200</td>\n",
       "      <td>21</td>\n",
       "      <td>200</td>\n",
       "      <td>200</td>\n",
       "      <td>200</td>\n",
       "      <td>200</td>\n",
       "      <td>200</td>\n",
       "      <td>0</td>\n",
       "      <td>0</td>\n",
       "    </tr>\n",
       "    <tr>\n",
       "      <th>2</th>\n",
       "      <td>3</td>\n",
       "      <td>18</td>\n",
       "      <td>21</td>\n",
       "      <td>18</td>\n",
       "      <td>200</td>\n",
       "      <td>200</td>\n",
       "      <td>200</td>\n",
       "      <td>200</td>\n",
       "      <td>1</td>\n",
       "      <td>0</td>\n",
       "    </tr>\n",
       "    <tr>\n",
       "      <th>3</th>\n",
       "      <td>3</td>\n",
       "      <td>200</td>\n",
       "      <td>18</td>\n",
       "      <td>200</td>\n",
       "      <td>200</td>\n",
       "      <td>200</td>\n",
       "      <td>200</td>\n",
       "      <td>200</td>\n",
       "      <td>0</td>\n",
       "      <td>0</td>\n",
       "    </tr>\n",
       "    <tr>\n",
       "      <th>4</th>\n",
       "      <td>4</td>\n",
       "      <td>200</td>\n",
       "      <td>200</td>\n",
       "      <td>200</td>\n",
       "      <td>200</td>\n",
       "      <td>200</td>\n",
       "      <td>200</td>\n",
       "      <td>200</td>\n",
       "      <td>0</td>\n",
       "      <td>0</td>\n",
       "    </tr>\n",
       "  </tbody>\n",
       "</table>\n",
       "</div>"
      ],
      "text/plain": [
       "   CATAG6  CIGAGE  ALCAGE  MJAGE  COCAGE  CRKAGE  HERAGE  METHAMAGE  \\\n",
       "0       4      16      14     15      16      16     200        200   \n",
       "1       3     200      21    200     200     200     200        200   \n",
       "2       3      18      21     18     200     200     200        200   \n",
       "3       3     200      18    200     200     200     200        200   \n",
       "4       4     200     200    200     200     200     200        200   \n",
       "\n",
       "   Gateway_Flag  Hard_Flag  \n",
       "0             1          1  \n",
       "1             0          0  \n",
       "2             1          0  \n",
       "3             0          0  \n",
       "4             0          0  "
      ]
     },
     "execution_count": 15,
     "metadata": {},
     "output_type": "execute_result"
    }
   ],
   "source": [
    "df.head()"
   ]
  },
  {
   "cell_type": "code",
   "execution_count": 16,
   "metadata": {},
   "outputs": [
    {
     "data": {
      "text/html": [
       "<div>\n",
       "<style scoped>\n",
       "    .dataframe tbody tr th:only-of-type {\n",
       "        vertical-align: middle;\n",
       "    }\n",
       "\n",
       "    .dataframe tbody tr th {\n",
       "        vertical-align: top;\n",
       "    }\n",
       "\n",
       "    .dataframe thead th {\n",
       "        text-align: right;\n",
       "    }\n",
       "</style>\n",
       "<table border=\"1\" class=\"dataframe\">\n",
       "  <thead>\n",
       "    <tr style=\"text-align: right;\">\n",
       "      <th></th>\n",
       "      <th>CATAG6</th>\n",
       "      <th>CIGAGE</th>\n",
       "      <th>ALCAGE</th>\n",
       "      <th>MJAGE</th>\n",
       "      <th>COCAGE</th>\n",
       "      <th>CRKAGE</th>\n",
       "      <th>HERAGE</th>\n",
       "      <th>METHAMAGE</th>\n",
       "      <th>Gateway_Flag</th>\n",
       "      <th>Hard_Flag</th>\n",
       "      <th>Gateway_Age</th>\n",
       "      <th>Hard_Age</th>\n",
       "    </tr>\n",
       "  </thead>\n",
       "  <tbody>\n",
       "    <tr>\n",
       "      <th>0</th>\n",
       "      <td>4</td>\n",
       "      <td>16</td>\n",
       "      <td>14</td>\n",
       "      <td>15</td>\n",
       "      <td>16</td>\n",
       "      <td>16</td>\n",
       "      <td>200</td>\n",
       "      <td>200</td>\n",
       "      <td>1</td>\n",
       "      <td>1</td>\n",
       "      <td>15</td>\n",
       "      <td>16</td>\n",
       "    </tr>\n",
       "    <tr>\n",
       "      <th>1</th>\n",
       "      <td>3</td>\n",
       "      <td>200</td>\n",
       "      <td>21</td>\n",
       "      <td>200</td>\n",
       "      <td>200</td>\n",
       "      <td>200</td>\n",
       "      <td>200</td>\n",
       "      <td>200</td>\n",
       "      <td>0</td>\n",
       "      <td>0</td>\n",
       "      <td>200</td>\n",
       "      <td>200</td>\n",
       "    </tr>\n",
       "    <tr>\n",
       "      <th>2</th>\n",
       "      <td>3</td>\n",
       "      <td>18</td>\n",
       "      <td>21</td>\n",
       "      <td>18</td>\n",
       "      <td>200</td>\n",
       "      <td>200</td>\n",
       "      <td>200</td>\n",
       "      <td>200</td>\n",
       "      <td>1</td>\n",
       "      <td>0</td>\n",
       "      <td>18</td>\n",
       "      <td>200</td>\n",
       "    </tr>\n",
       "    <tr>\n",
       "      <th>3</th>\n",
       "      <td>3</td>\n",
       "      <td>200</td>\n",
       "      <td>18</td>\n",
       "      <td>200</td>\n",
       "      <td>200</td>\n",
       "      <td>200</td>\n",
       "      <td>200</td>\n",
       "      <td>200</td>\n",
       "      <td>0</td>\n",
       "      <td>0</td>\n",
       "      <td>200</td>\n",
       "      <td>200</td>\n",
       "    </tr>\n",
       "    <tr>\n",
       "      <th>4</th>\n",
       "      <td>4</td>\n",
       "      <td>200</td>\n",
       "      <td>200</td>\n",
       "      <td>200</td>\n",
       "      <td>200</td>\n",
       "      <td>200</td>\n",
       "      <td>200</td>\n",
       "      <td>200</td>\n",
       "      <td>0</td>\n",
       "      <td>0</td>\n",
       "      <td>200</td>\n",
       "      <td>200</td>\n",
       "    </tr>\n",
       "  </tbody>\n",
       "</table>\n",
       "</div>"
      ],
      "text/plain": [
       "   CATAG6  CIGAGE  ALCAGE  MJAGE  COCAGE  CRKAGE  HERAGE  METHAMAGE  \\\n",
       "0       4      16      14     15      16      16     200        200   \n",
       "1       3     200      21    200     200     200     200        200   \n",
       "2       3      18      21     18     200     200     200        200   \n",
       "3       3     200      18    200     200     200     200        200   \n",
       "4       4     200     200    200     200     200     200        200   \n",
       "\n",
       "   Gateway_Flag  Hard_Flag  Gateway_Age  Hard_Age  \n",
       "0             1          1           15        16  \n",
       "1             0          0          200       200  \n",
       "2             1          0           18       200  \n",
       "3             0          0          200       200  \n",
       "4             0          0          200       200  "
      ]
     },
     "execution_count": 16,
     "metadata": {},
     "output_type": "execute_result"
    }
   ],
   "source": [
    "gateway = ['MJAGE']\n",
    "hard = ['COCAGE','CRKAGE','HERAGE','METHAMAGE']\n",
    "\n",
    "df['Gateway_Age'] = df[gateway].min(axis=1)\n",
    "df['Hard_Age'] = df[hard].min(axis=1)\n",
    "\n",
    "df.head()"
   ]
  },
  {
   "cell_type": "code",
   "execution_count": 17,
   "metadata": {},
   "outputs": [
    {
     "name": "stdout",
     "output_type": "stream",
     "text": [
      "Index(['Gateway_Flag', 'Hard_Flag', 'Gateway_Age', 'Hard_Age'], dtype='object')\n"
     ]
    }
   ],
   "source": [
    "recodeColumn(df,'Gateway_Age',200,0)\n",
    "recodeColumn(df,'Hard_Age',200,0)\n",
    "\n",
    "\n",
    "to_drop = ['CATAG6','CIGAGE', 'ALCAGE', 'MJAGE', 'COCAGE', 'CRKAGE', 'HERAGE', 'METHAMAGE']\n",
    "df.drop(columns=to_drop, inplace=True)\n",
    "\n",
    "print(df.columns)"
   ]
  },
  {
   "cell_type": "code",
   "execution_count": 18,
   "metadata": {},
   "outputs": [
    {
     "data": {
      "text/html": [
       "<div>\n",
       "<style scoped>\n",
       "    .dataframe tbody tr th:only-of-type {\n",
       "        vertical-align: middle;\n",
       "    }\n",
       "\n",
       "    .dataframe tbody tr th {\n",
       "        vertical-align: top;\n",
       "    }\n",
       "\n",
       "    .dataframe thead th {\n",
       "        text-align: right;\n",
       "    }\n",
       "</style>\n",
       "<table border=\"1\" class=\"dataframe\">\n",
       "  <thead>\n",
       "    <tr style=\"text-align: right;\">\n",
       "      <th></th>\n",
       "      <th>Gateway_Flag</th>\n",
       "      <th>Hard_Flag</th>\n",
       "      <th>Gateway_Age</th>\n",
       "      <th>Hard_Age</th>\n",
       "    </tr>\n",
       "  </thead>\n",
       "  <tbody>\n",
       "    <tr>\n",
       "      <th>0</th>\n",
       "      <td>1</td>\n",
       "      <td>1</td>\n",
       "      <td>15</td>\n",
       "      <td>16</td>\n",
       "    </tr>\n",
       "    <tr>\n",
       "      <th>1</th>\n",
       "      <td>0</td>\n",
       "      <td>0</td>\n",
       "      <td>0</td>\n",
       "      <td>0</td>\n",
       "    </tr>\n",
       "    <tr>\n",
       "      <th>2</th>\n",
       "      <td>1</td>\n",
       "      <td>0</td>\n",
       "      <td>18</td>\n",
       "      <td>0</td>\n",
       "    </tr>\n",
       "    <tr>\n",
       "      <th>3</th>\n",
       "      <td>0</td>\n",
       "      <td>0</td>\n",
       "      <td>0</td>\n",
       "      <td>0</td>\n",
       "    </tr>\n",
       "    <tr>\n",
       "      <th>4</th>\n",
       "      <td>0</td>\n",
       "      <td>0</td>\n",
       "      <td>0</td>\n",
       "      <td>0</td>\n",
       "    </tr>\n",
       "  </tbody>\n",
       "</table>\n",
       "</div>"
      ],
      "text/plain": [
       "   Gateway_Flag  Hard_Flag  Gateway_Age  Hard_Age\n",
       "0             1          1           15        16\n",
       "1             0          0            0         0\n",
       "2             1          0           18         0\n",
       "3             0          0            0         0\n",
       "4             0          0            0         0"
      ]
     },
     "execution_count": 18,
     "metadata": {},
     "output_type": "execute_result"
    }
   ],
   "source": [
    "df.head()"
   ]
  },
  {
   "cell_type": "code",
   "execution_count": 19,
   "metadata": {},
   "outputs": [],
   "source": [
    "import numpy as np\n",
    "\n",
    "df['drop'] = np.where((df['Gateway_Age'] == df['Hard_Age']) & df['Gateway_Age'] ==1 ,1,0)\n",
    "df['Gateway_Age_Flag'] = np.where(df['Gateway_Age']<df['Hard_Age'],1,0)\n",
    "df = df[df['drop']==0]"
   ]
  },
  {
   "cell_type": "code",
   "execution_count": 20,
   "metadata": {},
   "outputs": [
    {
     "data": {
      "text/html": [
       "<div>\n",
       "<style scoped>\n",
       "    .dataframe tbody tr th:only-of-type {\n",
       "        vertical-align: middle;\n",
       "    }\n",
       "\n",
       "    .dataframe tbody tr th {\n",
       "        vertical-align: top;\n",
       "    }\n",
       "\n",
       "    .dataframe thead th {\n",
       "        text-align: right;\n",
       "    }\n",
       "</style>\n",
       "<table border=\"1\" class=\"dataframe\">\n",
       "  <thead>\n",
       "    <tr style=\"text-align: right;\">\n",
       "      <th></th>\n",
       "      <th>Gateway_Flag</th>\n",
       "      <th>Hard_Flag</th>\n",
       "      <th>Gateway_Age</th>\n",
       "      <th>Hard_Age</th>\n",
       "      <th>Gateway_Age_Flag</th>\n",
       "    </tr>\n",
       "  </thead>\n",
       "  <tbody>\n",
       "    <tr>\n",
       "      <th>0</th>\n",
       "      <td>1</td>\n",
       "      <td>1</td>\n",
       "      <td>15</td>\n",
       "      <td>16</td>\n",
       "      <td>1</td>\n",
       "    </tr>\n",
       "    <tr>\n",
       "      <th>1</th>\n",
       "      <td>0</td>\n",
       "      <td>0</td>\n",
       "      <td>0</td>\n",
       "      <td>0</td>\n",
       "      <td>0</td>\n",
       "    </tr>\n",
       "    <tr>\n",
       "      <th>2</th>\n",
       "      <td>1</td>\n",
       "      <td>0</td>\n",
       "      <td>18</td>\n",
       "      <td>0</td>\n",
       "      <td>0</td>\n",
       "    </tr>\n",
       "    <tr>\n",
       "      <th>3</th>\n",
       "      <td>0</td>\n",
       "      <td>0</td>\n",
       "      <td>0</td>\n",
       "      <td>0</td>\n",
       "      <td>0</td>\n",
       "    </tr>\n",
       "    <tr>\n",
       "      <th>4</th>\n",
       "      <td>0</td>\n",
       "      <td>0</td>\n",
       "      <td>0</td>\n",
       "      <td>0</td>\n",
       "      <td>0</td>\n",
       "    </tr>\n",
       "  </tbody>\n",
       "</table>\n",
       "</div>"
      ],
      "text/plain": [
       "   Gateway_Flag  Hard_Flag  Gateway_Age  Hard_Age  Gateway_Age_Flag\n",
       "0             1          1           15        16                 1\n",
       "1             0          0            0         0                 0\n",
       "2             1          0           18         0                 0\n",
       "3             0          0            0         0                 0\n",
       "4             0          0            0         0                 0"
      ]
     },
     "execution_count": 20,
     "metadata": {},
     "output_type": "execute_result"
    }
   ],
   "source": [
    "df = df[['Gateway_Flag','Hard_Flag','Gateway_Age','Hard_Age','Gateway_Age_Flag']]\n",
    "df.head()"
   ]
  },
  {
   "cell_type": "markdown",
   "metadata": {},
   "source": [
    "# Start Statistical Analysis"
   ]
  },
  {
   "cell_type": "code",
   "execution_count": 21,
   "metadata": {},
   "outputs": [],
   "source": [
    "cm_hard_flag = metrics.confusion_matrix(df['Hard_Flag'],df['Gateway_Age_Flag'])\n",
    "cm_hard_flag = cm_hard_flag/cm_hard_flag.sum()\n",
    "\n",
    "cm_hard_reg = metrics.confusion_matrix(df['Hard_Flag'],df['Gateway_Flag'])\n",
    "cm_hard_reg = cm_hard_reg/cm_hard_reg.sum()"
   ]
  },
  {
   "cell_type": "code",
   "execution_count": 22,
   "metadata": {},
   "outputs": [
    {
     "data": {
      "image/png": "[encoded data removed]",
      "text/plain": [
       "<Figure size 432x432 with 2 Axes>"
      ]
     },
     "metadata": {
      "needs_background": "light"
     },
     "output_type": "display_data"
    }
   ],
   "source": [
    "import matplotlib.pyplot as plt\n",
    "import seaborn as sns\n",
    "from sklearn import metrics\n",
    "plt.figure(figsize=(6,6))\n",
    "sns.heatmap(cm_hard_flag, annot=True, fmt=\".2%\", linewidths=.5, square=True, cmap='Blues_r');\n",
    "plt.ylabel('Hard Drug Used');\n",
    "plt.xlabel('Gateway Drug First');"
   ]
  },
  {
   "cell_type": "code",
   "execution_count": 23,
   "metadata": {},
   "outputs": [
    {
     "data": {
      "text/plain": [
       "Gateway_Flag         144696\n",
       "Hard_Flag             51828\n",
       "Gateway_Age         2601832\n",
       "Hard_Age            1093472\n",
       "Gateway_Age_Flag      46898\n",
       "dtype: int64"
      ]
     },
     "execution_count": 23,
     "metadata": {},
     "output_type": "execute_result"
    }
   ],
   "source": [
    "df.sum()"
   ]
  },
  {
   "cell_type": "code",
   "execution_count": 24,
   "metadata": {},
   "outputs": [
    {
     "data": {
      "text/plain": [
       "286994"
      ]
     },
     "execution_count": 24,
     "metadata": {},
     "output_type": "execute_result"
    }
   ],
   "source": [
    "len(df)\n"
   ]
  },
  {
   "cell_type": "code",
   "execution_count": 25,
   "metadata": {},
   "outputs": [
    {
     "data": {
      "image/png": "[encoded data removed]",
      "text/plain": [
       "<Figure size 432x432 with 2 Axes>"
      ]
     },
     "metadata": {
      "needs_background": "light"
     },
     "output_type": "display_data"
    }
   ],
   "source": [
    "plt.figure(figsize=(6,6))\n",
    "sns.heatmap(cm_hard_reg, annot=True, fmt=\".2%\", linewidths=.5, square=True, cmap='Blues_r');\n",
    "plt.ylabel('Hard Drugs');\n",
    "plt.xlabel('Gateway Drugs');"
   ]
  },
  {
   "cell_type": "markdown",
   "metadata": {},
   "source": [
    "# Logistic Regression"
   ]
  },
  {
   "cell_type": "code",
   "execution_count": 26,
   "metadata": {},
   "outputs": [],
   "source": [
    "from sklearn.model_selection import train_test_split\n",
    "xTrain, xTest, yTrain, yTest = train_test_split(df[['Gateway_Age','Gateway_Flag']], df['Hard_Flag'], test_size = .4)\n",
    "\n"
   ]
  },
  {
   "cell_type": "code",
   "execution_count": 27,
   "metadata": {},
   "outputs": [],
   "source": [
    "from sklearn.linear_model import LogisticRegression\n",
    "\n",
    "#Define the classification algorithm.  n_estimators = 100 is the default, this is the number of trees in the forest.\n",
    "logreg_hard = LogisticRegression(random_state=0,max_iter=500)\n",
    "logreg_hard.fit(xTrain,yTrain)\n",
    "logreg_hard_pred = logreg_hard.predict(xTest)\n",
    "logreg_hard_probs = logreg_hard.predict_proba(xTest)\n",
    "logreg_hard_score = logreg_hard.score(xTest,yTest)"
   ]
  },
  {
   "cell_type": "code",
   "execution_count": 28,
   "metadata": {},
   "outputs": [
    {
     "data": {
      "image/png": "[encoded data removed]",
      "text/plain": [
       "<Figure size 432x288 with 1 Axes>"
      ]
     },
     "metadata": {
      "needs_background": "light"
     },
     "output_type": "display_data"
    }
   ],
   "source": [
    "import matplotlib.pyplot as plt\n",
    "import seaborn as sns\n",
    "from sklearn import metrics\n",
    "import matplotlib.pyplot as plt\n",
    "import numpy as np\n",
    "import seaborn as sns\n",
    "from sklearn import metrics\n",
    "import scikitplot\n",
    "\n",
    "scikitplot.metrics.plot_roc(yTest, logreg_hard_probs, title = 'Logistic Reg - Gateway Drugs')\n",
    "plt.show()"
   ]
  },
  {
   "cell_type": "code",
   "execution_count": 29,
   "metadata": {},
   "outputs": [
    {
     "data": {
      "image/png": "[encoded data removed]",
      "text/plain": [
       "<Figure size 360x360 with 2 Axes>"
      ]
     },
     "metadata": {
      "needs_background": "light"
     },
     "output_type": "display_data"
    }
   ],
   "source": [
    "c_m = metrics.confusion_matrix(yTest, logreg_hard_pred)\n",
    "plt.figure(figsize=(5,5))\n",
    "sns.heatmap(c_m, annot=True, fmt=\".0f\", linewidths=.5, square=True, cmap='Blues_r');\n",
    "title = 'Accuracy Score: {:.2f}'.format(logreg_hard_score)\n",
    "plt.ylabel('test_target');\n",
    "plt.xlabel('test_predict');\n",
    "plt.title(title, size = 15);"
   ]
  },
  {
   "cell_type": "code",
   "execution_count": 30,
   "metadata": {},
   "outputs": [
    {
     "name": "stdout",
     "output_type": "stream",
     "text": [
      "Feature: 0, Score: -0.15307\n",
      "Feature: 1, Score: 6.43571\n"
     ]
    },
    {
     "data": {
      "image/png": "[encoded data removed]",
      "text/plain": [
       "<Figure size 432x288 with 1 Axes>"
      ]
     },
     "metadata": {
      "needs_background": "light"
     },
     "output_type": "display_data"
    }
   ],
   "source": [
    "from matplotlib import pyplot\n",
    "\n",
    "importance = logreg_hard.coef_[0]\n",
    "# summarize feature importance\n",
    "for i,v in enumerate(importance):\n",
    "\tprint('Feature: %0d, Score: %.5f' % (i,v))\n",
    "# plot feature importance\n",
    "pyplot.bar([x for x in range(len(importance))], importance)\n",
    "pyplot.show()"
   ]
  },
  {
   "cell_type": "code",
   "execution_count": 31,
   "metadata": {},
   "outputs": [
    {
     "name": "stdout",
     "output_type": "stream",
     "text": [
      "Optimization terminated successfully.\n",
      "         Current function value: 0.646421\n",
      "         Iterations 6\n",
      "                           Logit Regression Results                           \n",
      "==============================================================================\n",
      "Dep. Variable:              Hard_Flag   No. Observations:               172196\n",
      "Model:                          Logit   Df Residuals:                   172194\n",
      "Method:                           MLE   Df Model:                            1\n",
      "Date:                Fri, 17 Dec 2021   Pseudo R-squ.:                 -0.3693\n",
      "Time:                        12:49:20   Log-Likelihood:            -1.1131e+05\n",
      "converged:                       True   LL-Null:                       -81291.\n",
      "Covariance Type:            nonrobust   LLR p-value:                     1.000\n",
      "================================================================================\n",
      "                   coef    std err          z      P>|z|      [0.025      0.975]\n",
      "--------------------------------------------------------------------------------\n",
      "Gateway_Age     -0.1535      0.002    -73.965      0.000      -0.158      -0.149\n",
      "Gateway_Flag     2.0110      0.035     56.684      0.000       1.941       2.081\n",
      "================================================================================\n"
     ]
    }
   ],
   "source": [
    "import statsmodels.api as sm\n",
    "logit_model=sm.Logit(yTrain,xTrain)\n",
    "result=logit_model.fit()\n",
    "print(result.summary())"
   ]
  },
  {
   "cell_type": "markdown",
   "metadata": {},
   "source": [
    "As a result, we can see that the usage of marijuana is a statistically significant predictor for using harder drugs later in life.  This, of course, only shows that there is a correlation between the two events, and not that using marijuana increases the likelihood of using harder drugs later in life."
   ]
  },
  {
   "cell_type": "code",
   "execution_count": 32,
   "metadata": {},
   "outputs": [
    {
     "name": "stdout",
     "output_type": "stream",
     "text": [
      "           Features           Chi2  p-val\n",
      "0  Gateway_Age_Flag  212796.462684    0.0\n"
     ]
    }
   ],
   "source": [
    "from sklearn import feature_selection\n",
    "chi2, p = feature_selection.chi2(df[['Gateway_Age_Flag']],df['Hard_Flag'])\n",
    "\n",
    "Chi2 = pd.DataFrame(['Gateway_Age_Flag'],columns = ['Features'])\n",
    "Chi2['Chi2'] = chi2\n",
    "Chi2['p-val'] = p\n",
    "\n",
    "print(Chi2)"
   ]
  }
 ],
 "metadata": {
  "kernelspec": {
   "display_name": "Python 3",
   "language": "python",
   "name": "python3"
  },
  "language_info": {
   "codemirror_mode": {
    "name": "ipython",
    "version": 3
   },
   "file_extension": ".py",
   "mimetype": "text/x-python",
   "name": "python",
   "nbconvert_exporter": "python",
   "pygments_lexer": "ipython3",
   "version": "3.8.10"
  }
 },
 "nbformat": 4,
 "nbformat_minor": 4
}
