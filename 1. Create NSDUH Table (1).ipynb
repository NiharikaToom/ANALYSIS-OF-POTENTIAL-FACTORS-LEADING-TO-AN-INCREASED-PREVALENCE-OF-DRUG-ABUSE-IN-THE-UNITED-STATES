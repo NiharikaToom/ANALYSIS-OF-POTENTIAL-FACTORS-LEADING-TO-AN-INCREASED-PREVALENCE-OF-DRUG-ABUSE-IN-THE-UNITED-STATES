{
 "cells": [
  {
   "cell_type": "code",
   "execution_count": 3,
   "metadata": {},
   "outputs": [],
   "source": [
    "import pandas as pd\n",
    "\n",
    "data = pd.read_csv (r'Consolidated2.csv')   \n",
    "df = pd.DataFrame(data)\n",
    "\n",
    "df = df.where((pd.notnull(df)), None)"
   ]
  },
  {
   "cell_type": "code",
   "execution_count": 4,
   "metadata": {},
   "outputs": [
    {
     "name": "stdout",
     "output_type": "stream",
     "text": [
      "RecordID INT,cigever INT,cigrec INT,cig30use INT,cig30av INT,cigage INT,cig100lf INT,smklsstry INT,smklssrec INT,smklss30n INT,cigarrec INT,cgr30use INT,pipever INT,alcever INT,alcrec INT,alcyrtot INT,alcus30d INT,alcbng30d INT,mjever INT,mjage INT,mjrec INT,mjyrtot INT,cocever INT,cocage INT,cocrec INT,cocyrtot INT,crkever INT,crkage INT,crkyrtot INT,herever INT,herage INT,herrec INT,heryrtot INT,hallucevr INT,hallucage INT,hallucrec INT,methamage INT,pnrnmlif INT,pnrnmrec INT,pnrnmage INT,cigflag INT,tobflag INT,tobyr INT,tobmon INT,alcflag INT,alcyr INT,alcmon INT,mrjflag INT,mrjyr INT,mrjmon INT,cocflag INT,cocmon INT,crkflag INT,crkmon INT,herflag INT,hermon INT,hallucflag INT,hallucyr INT,hallucmon INT,lsdflag INT,lsdyr INT,lsdmon INT,pcpflag INT,pcpyr INT,pcpmon INT,inhalflag INT,inhalyr INT,inhalmon INT,methamflag INT,methamyr INT,methammon INT,pnrnmflag INT,pnrnmyr INT,pnrnmmon INT,trqnmflag INT,trqnmyr INT,trqnmmon INT,stmnmflag INT,stmnmyr INT,stmnmmon INT,sednmflag INT,sednmyr INT,sednmmon INT,psychflag INT,psychyr INT,psychmon INT,herpnryr INT,illflag INT,illyr INT,illmon INT,bngdrkmon INT,hvydrkmon INT,illoralc INT,cigafu INT,dcigafu INT,alcafu INT,alcafu2 INT,mjafu INT,alcydays INT,mrjydays INT,cocydays INT,hallndayyr INT,inhndayyr INT,methndayyr INT,service INT,milstat INT,actdever INT,actd2001 INT,actd9001 INT,actd7590 INT,actdviet INT,actdpriv INT,combatpy INT,health INT,movsinpyr2 INT,sexatract INT,sexident INT,speakengl INT,diffhear INT,diffsee INT,diffthink INT,diffwalk INT,diffdress INT,differand INT,irsex INT,irmaritstat INT,ireduhighst2 INT,catag6 INT,newrace2 INT,health2 INT,eduenroll INT,edugrdnow2 INT,edufulprt INT,edusickmo INT,eduskipmo INT,mariednum2 INT,milfamily INT,milspouse INT,milpartnr INT,milmother INT,milfather INT,milson INT,mildaught INT,milbrothr INT,milsister INT,milothfam INT,wrkstatwk2 INT,wrkdpstwk INT,wrkhadjob INT,wrkdhrswk2 INT,wrk35wkus INT,wrkrsnnot INT,wrkrsnjob INT,wrkeffort INT,wrkdpstyr INT,wrknumjob2 INT,wrknjbpyr INT,wrknjbwks INT,wrklastyr2 INT,wrksickmo INT,wrkskipmo INT,wrkdrgpol INT,wrkdrgalb INT,wrkdrgedu INT,wrkdrghlp INT,wrktstalc INT,wrktstdrg INT,wrktsthir INT,wrktstrdm INT,wrktst1st INT,wrkokpreh INT,wrkokrand INT,irwrkstat INT,irwrkstat18 INT,edfam18 INT,imother INT,ifather INT,cellnotcl INT,cellwrkng INT,irpinc3 INT,irfamin3 INT,poverty3 INT,dnicnsp INT,depndalc INT,depndmrj INT,depndcoc INT,depndher INT,depndpyhal INT,depndpyinh INT,depndpymth INT,depndpypnr INT,depndpystm INT,depndpysed INT,depndpypsy INT,depndpyill INT,dppyillalc INT,abusealc INT,abusemrj INT,abusecoc INT,abuseher INT,abusepyhal INT,abusepyinh INT,abusepymth INT,abusepypnr INT,abusepytrq INT,abusepystm INT,abusepysed INT,abusepypsy INT,abusepyill INT,abpyillalc INT,txevrrcvd INT,pregnant INT,inhospyr INT,nmvsopt2 INT,hrtcondev INT,diabetevr INT,copdever INT,cirrosevr INT,hepbcever INT,kidnydsev INT,asthmaevr INT,cancerevr INT,highbpevr INT,bmi2 INT,auoptyr INT,aurxyr INT,aumotvyr INT,amhoutp3 INT,amhtxrc3 INT,k6scmon INT,spdmon INT,mhsuithk INT,smipp_u INT,addprev INT,addscev INT,adlosev INT,addpdisc INT,adwrdst INT,amdelt INT,amdeyr INT,cigofrsm INT,cigtry INT,smklssevr INT,cigartry INT,lsd INT,peyote INT,mesc INT,psilcy INT,ecstmolly INT,ketminesk INT,dmtamtfxy INT,salviadiv INT,hallucoth INT,amylnit INT,gas INT,sppaint INT,airduster INT,othaeros INT,stmnmlif INT,stmrswght INT,age2 INT,catage INT,catag2 INT,catag3 INT,catag7 INT,sexage INT,sexrace INT,income INT,pden10 INT,coutyp4 INT,nomarr2 INT,irmarit INT\n"
     ]
    }
   ],
   "source": [
    "head = ''\n",
    "for col in df.columns:\n",
    "    head+=col +' INT,'\n",
    "\n",
    "\n",
    "head = head[0:-1]   \n",
    "print(head)\n"
   ]
  },
  {
   "cell_type": "code",
   "execution_count": 5,
   "metadata": {},
   "outputs": [],
   "source": [
    "myvars = {}\n",
    "with open(\"../jrdaughe-mysql-password\") as myfile:\n",
    "    for line in myfile:\n",
    "        name, var = line.partition(\":\")[::2]\n",
    "        myvars[name.strip()] = var.strip()\n",
    "\n",
    "import MySQLdb\n",
    "conn = MySQLdb.connect(host = \"localhost\",user=myvars['DB username'], passwd=myvars['DB password'], db='I501Fa21grp05_db', local_infile = 1)\n",
    "cursor = conn.cursor()"
   ]
  },
  {
   "cell_type": "code",
   "execution_count": 7,
   "metadata": {},
   "outputs": [
    {
     "ename": "OperationalError",
     "evalue": "(1118, 'Row size too large (> 8126). Changing some columns to TEXT or BLOB may help. In current row format, BLOB prefix of 0 bytes is stored inline.')",
     "output_type": "error",
     "traceback": [
      "\u001b[0;31m---------------------------------------------------------------------------\u001b[0m",
      "\u001b[0;31mOperationalError\u001b[0m                          Traceback (most recent call last)",
      "\u001b[0;32m<ipython-input-7-bedb39491781>\u001b[0m in \u001b[0;36m<module>\u001b[0;34m\u001b[0m\n\u001b[0;32m----> 1\u001b[0;31m \u001b[0mcursor\u001b[0m\u001b[0;34m.\u001b[0m\u001b[0mexecute\u001b[0m\u001b[0;34m(\u001b[0m\u001b[0;34m'CREATE TABLE NSDUH ('\u001b[0m\u001b[0;34m+\u001b[0m\u001b[0mhead\u001b[0m\u001b[0;34m+\u001b[0m\u001b[0;34m')'\u001b[0m\u001b[0;34m)\u001b[0m\u001b[0;34m;\u001b[0m\u001b[0;34m\u001b[0m\u001b[0;34m\u001b[0m\u001b[0m\n\u001b[0m",
      "\u001b[0;32m~/.local/lib/python3.8/site-packages/MySQLdb/cursors.py\u001b[0m in \u001b[0;36mexecute\u001b[0;34m(self, query, args)\u001b[0m\n\u001b[1;32m    204\u001b[0m \u001b[0;34m\u001b[0m\u001b[0m\n\u001b[1;32m    205\u001b[0m         \u001b[0;32massert\u001b[0m \u001b[0misinstance\u001b[0m\u001b[0;34m(\u001b[0m\u001b[0mquery\u001b[0m\u001b[0;34m,\u001b[0m \u001b[0;34m(\u001b[0m\u001b[0mbytes\u001b[0m\u001b[0;34m,\u001b[0m \u001b[0mbytearray\u001b[0m\u001b[0;34m)\u001b[0m\u001b[0;34m)\u001b[0m\u001b[0;34m\u001b[0m\u001b[0;34m\u001b[0m\u001b[0m\n\u001b[0;32m--> 206\u001b[0;31m         \u001b[0mres\u001b[0m \u001b[0;34m=\u001b[0m \u001b[0mself\u001b[0m\u001b[0;34m.\u001b[0m\u001b[0m_query\u001b[0m\u001b[0;34m(\u001b[0m\u001b[0mquery\u001b[0m\u001b[0;34m)\u001b[0m\u001b[0;34m\u001b[0m\u001b[0;34m\u001b[0m\u001b[0m\n\u001b[0m\u001b[1;32m    207\u001b[0m         \u001b[0;32mreturn\u001b[0m \u001b[0mres\u001b[0m\u001b[0;34m\u001b[0m\u001b[0;34m\u001b[0m\u001b[0m\n\u001b[1;32m    208\u001b[0m \u001b[0;34m\u001b[0m\u001b[0m\n",
      "\u001b[0;32m~/.local/lib/python3.8/site-packages/MySQLdb/cursors.py\u001b[0m in \u001b[0;36m_query\u001b[0;34m(self, q)\u001b[0m\n\u001b[1;32m    317\u001b[0m         \u001b[0mdb\u001b[0m \u001b[0;34m=\u001b[0m \u001b[0mself\u001b[0m\u001b[0;34m.\u001b[0m\u001b[0m_get_db\u001b[0m\u001b[0;34m(\u001b[0m\u001b[0;34m)\u001b[0m\u001b[0;34m\u001b[0m\u001b[0;34m\u001b[0m\u001b[0m\n\u001b[1;32m    318\u001b[0m         \u001b[0mself\u001b[0m\u001b[0;34m.\u001b[0m\u001b[0m_result\u001b[0m \u001b[0;34m=\u001b[0m \u001b[0;32mNone\u001b[0m\u001b[0;34m\u001b[0m\u001b[0;34m\u001b[0m\u001b[0m\n\u001b[0;32m--> 319\u001b[0;31m         \u001b[0mdb\u001b[0m\u001b[0;34m.\u001b[0m\u001b[0mquery\u001b[0m\u001b[0;34m(\u001b[0m\u001b[0mq\u001b[0m\u001b[0;34m)\u001b[0m\u001b[0;34m\u001b[0m\u001b[0;34m\u001b[0m\u001b[0m\n\u001b[0m\u001b[1;32m    320\u001b[0m         \u001b[0mself\u001b[0m\u001b[0;34m.\u001b[0m\u001b[0m_do_get_result\u001b[0m\u001b[0;34m(\u001b[0m\u001b[0mdb\u001b[0m\u001b[0;34m)\u001b[0m\u001b[0;34m\u001b[0m\u001b[0;34m\u001b[0m\u001b[0m\n\u001b[1;32m    321\u001b[0m         \u001b[0mself\u001b[0m\u001b[0;34m.\u001b[0m\u001b[0m_post_get_result\u001b[0m\u001b[0;34m(\u001b[0m\u001b[0;34m)\u001b[0m\u001b[0;34m\u001b[0m\u001b[0;34m\u001b[0m\u001b[0m\n",
      "\u001b[0;32m~/.local/lib/python3.8/site-packages/MySQLdb/connections.py\u001b[0m in \u001b[0;36mquery\u001b[0;34m(self, query)\u001b[0m\n\u001b[1;32m    257\u001b[0m         \u001b[0;32mif\u001b[0m \u001b[0misinstance\u001b[0m\u001b[0;34m(\u001b[0m\u001b[0mquery\u001b[0m\u001b[0;34m,\u001b[0m \u001b[0mbytearray\u001b[0m\u001b[0;34m)\u001b[0m\u001b[0;34m:\u001b[0m\u001b[0;34m\u001b[0m\u001b[0;34m\u001b[0m\u001b[0m\n\u001b[1;32m    258\u001b[0m             \u001b[0mquery\u001b[0m \u001b[0;34m=\u001b[0m \u001b[0mbytes\u001b[0m\u001b[0;34m(\u001b[0m\u001b[0mquery\u001b[0m\u001b[0;34m)\u001b[0m\u001b[0;34m\u001b[0m\u001b[0;34m\u001b[0m\u001b[0m\n\u001b[0;32m--> 259\u001b[0;31m         \u001b[0m_mysql\u001b[0m\u001b[0;34m.\u001b[0m\u001b[0mconnection\u001b[0m\u001b[0;34m.\u001b[0m\u001b[0mquery\u001b[0m\u001b[0;34m(\u001b[0m\u001b[0mself\u001b[0m\u001b[0;34m,\u001b[0m \u001b[0mquery\u001b[0m\u001b[0;34m)\u001b[0m\u001b[0;34m\u001b[0m\u001b[0;34m\u001b[0m\u001b[0m\n\u001b[0m\u001b[1;32m    260\u001b[0m \u001b[0;34m\u001b[0m\u001b[0m\n\u001b[1;32m    261\u001b[0m     \u001b[0;32mdef\u001b[0m \u001b[0m_bytes_literal\u001b[0m\u001b[0;34m(\u001b[0m\u001b[0mself\u001b[0m\u001b[0;34m,\u001b[0m \u001b[0mbs\u001b[0m\u001b[0;34m)\u001b[0m\u001b[0;34m:\u001b[0m\u001b[0;34m\u001b[0m\u001b[0;34m\u001b[0m\u001b[0m\n",
      "\u001b[0;31mOperationalError\u001b[0m: (1118, 'Row size too large (> 8126). Changing some columns to TEXT or BLOB may help. In current row format, BLOB prefix of 0 bytes is stored inline.')"
     ]
    }
   ],
   "source": [
    "# Due to the number of columns, I actually couldn't create teh table directly from here.  What I ended up doing was\n",
    "# I created the table in SQL first, then inserted the data into it.\n",
    "\n",
    "cursor.execute('CREATE TABLE NSDUH ('+head+')');"
   ]
  },
  {
   "cell_type": "markdown",
   "metadata": {},
   "source": [
    "think to use na_values in dataframes"
   ]
  },
  {
   "cell_type": "code",
   "execution_count": 9,
   "metadata": {},
   "outputs": [
    {
     "data": {
      "text/plain": [
       "282768"
      ]
     },
     "execution_count": 9,
     "metadata": {},
     "output_type": "execute_result"
    }
   ],
   "source": [
    "cursor.execute(\"LOAD DATA LOCAL INFILE 'Consolidated.csv' INTO TABLE NSDUH FIELDS TERMINATED BY ',' LINES TERMINATED BY '\\r\\n' IGNORE 1 ROWS;\")"
   ]
  },
  {
   "cell_type": "code",
   "execution_count": 10,
   "metadata": {},
   "outputs": [],
   "source": [
    "conn.commit()"
   ]
  },
  {
   "cell_type": "code",
   "execution_count": null,
   "metadata": {},
   "outputs": [],
   "source": []
  }
 ],
 "metadata": {
  "kernelspec": {
   "display_name": "Python 3",
   "language": "python",
   "name": "python3"
  },
  "language_info": {
   "codemirror_mode": {
    "name": "ipython",
    "version": 3
   },
   "file_extension": ".py",
   "mimetype": "text/x-python",
   "name": "python",
   "nbconvert_exporter": "python",
   "pygments_lexer": "ipython3",
   "version": "3.8.10"
  }
 },
 "nbformat": 4,
 "nbformat_minor": 4
}
